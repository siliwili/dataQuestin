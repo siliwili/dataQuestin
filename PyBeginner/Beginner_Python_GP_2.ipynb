{
 "cells": [
  {
   "cell_type": "markdown",
   "metadata": {},
   "source": [
    "# Guided Project: Explore U.S. Births\n",
    "\n",
    "The solution provided by Dataquest.io can be found [here](https://github.com/dataquestio/solutions/blob/master/Mission9Solutions.ipynb)"
   ]
  },
  {
   "cell_type": "markdown",
   "metadata": {},
   "source": [
    "In this guided project the goal is to practice the basics of Python by analyzing births in the U.S.\n",
    "* How to convert data into a list of lists\n",
    "* How to calculate summary statistics using dictionaries\n",
    "* How to create a more general function for calculating summary statistics"
   ]
  },
  {
   "cell_type": "markdown",
   "metadata": {},
   "source": [
    "----------------------------------------------------------------------------------------------------------------------\n",
    "## Introduction to the Dataset\n",
    "The data set used in this notebook come from the Center for Disease Control and Prevention's National Center for Health Statistics."
   ]
  },
  {
   "cell_type": "markdown",
   "metadata": {},
   "source": [
    "One way to do this is through a series of commands like this:\n",
    "<blockquote>\n",
    "    <p>f = open('US_births_1994-2003_CDC_NCHS.csv')</p>\n",
    "    <p>births = f.read()</p>\n",
    "    <p>birth_data = birth_data.split('\\n')</p>\n",
    "    <p>print(birth_data[0:10])</p>\n",
    "</blockquote>\n",
    "**BUT** A more 'programmatic' way is to do this is..."
   ]
  },
  {
   "cell_type": "code",
   "execution_count": null,
   "metadata": {
    "scrolled": true
   },
   "outputs": [],
   "source": [
    "filename = \"US_births_1994-2003_CDC_NCHS.csv\"\n",
    "birth_data = open(filename).read().split(\"\\n\")\n",
    "print(birth_data[0:10])"
   ]
  },
  {
   "cell_type": "markdown",
   "metadata": {},
   "source": [
    "Looking at the output we see that the data set has the following structure:\n",
    "* year - Year (1994 to 2003).\n",
    "* month - Month (1 to 12).\n",
    "* date_of_month - Day number of the month (1 to 31).\n",
    "* day_of_week - Day of week (1 to 7).\n",
    "* births - Number of births that day.\n",
    "\n",
    "*The ranges can be found by looking at the set for each field, OR by looking at the information provided in Dataquest.*"
   ]
  },
  {
   "cell_type": "markdown",
   "metadata": {},
   "source": [
    "## Converting Data Into A List Of Lists"
   ]
  },
  {
   "cell_type": "markdown",
   "metadata": {},
   "source": [
    "Personally, I like to set my functions apart from where I use them. It helps me stay organized."
   ]
  },
  {
   "cell_type": "code",
   "execution_count": null,
   "metadata": {},
   "outputs": [],
   "source": [
    "def read_csv(filename):\n",
    "    string_data = open(filename).read()\n",
    "    split_string_data = string_data.split(\"\\n\")\n",
    "    string_list = split_string_data[1:len(split_string_data)]\n",
    "    final_list = []\n",
    "    \n",
    "    for row in string_list:\n",
    "        string_fields = []\n",
    "        string_fields = row.split(\",\")\n",
    "        int_fields = []\n",
    "        \n",
    "        for value in string_fields:\n",
    "            int_fields.append(int(value))\n",
    "        final_list.append(int_fields)\n",
    "        \n",
    "    return final_list"
   ]
  },
  {
   "cell_type": "markdown",
   "metadata": {},
   "source": [
    "The project does ask the student to read in the file twice. The second time using a function that can no be copy and pasted to be reused."
   ]
  },
  {
   "cell_type": "code",
   "execution_count": null,
   "metadata": {},
   "outputs": [],
   "source": [
    "file_to_read = \"US_births_1994-2003_CDC_NCHS.csv\"\n",
    "cdc_list = read_csv(file_to_read)"
   ]
  },
  {
   "cell_type": "code",
   "execution_count": null,
   "metadata": {},
   "outputs": [],
   "source": [
    "cdc_list[0:10]"
   ]
  },
  {
   "cell_type": "markdown",
   "metadata": {},
   "source": [
    "## Calculating Number Of Births Each Month"
   ]
  },
  {
   "cell_type": "code",
   "execution_count": null,
   "metadata": {},
   "outputs": [],
   "source": [
    "def month_births(list_of_lists):\n",
    "    births_per_month = {}\n",
    "    \n",
    "    for each_list in list_of_lists:\n",
    "        month_value = each_list[1]\n",
    "        birth_value = int(each_list[4])\n",
    "        \n",
    "        if month_value in births_per_month:\n",
    "            births_per_month[month_value] = births_per_month[month_value] + birth_value\n",
    "        else:\n",
    "            births_per_month[month_value] = birth_value\n",
    "            \n",
    "    return births_per_month"
   ]
  },
  {
   "cell_type": "code",
   "execution_count": null,
   "metadata": {},
   "outputs": [],
   "source": [
    "cdc_month_births = month_births(cdc_list)\n",
    "cdc_month_births"
   ]
  },
  {
   "cell_type": "markdown",
   "metadata": {},
   "source": [
    "## Calculating Number Of Births Each Day Of Week"
   ]
  },
  {
   "cell_type": "code",
   "execution_count": null,
   "metadata": {},
   "outputs": [],
   "source": [
    "def dow_births(list_of_lists):\n",
    "    day_of_week = {}\n",
    "    \n",
    "    for each_list in list_of_lists:\n",
    "#         split_each = each.split(',')\n",
    "        day_value = each_list[3]\n",
    "        birth_value = int(each_list[4])\n",
    "        if day_value in day_of_week:\n",
    "            day_of_week[day_value] = day_of_week[day_value] + birth_value\n",
    "        else:\n",
    "            day_of_week[day_value] = birth_value\n",
    "    return day_of_week"
   ]
  },
  {
   "cell_type": "code",
   "execution_count": null,
   "metadata": {},
   "outputs": [],
   "source": [
    "def dow_births(list_of_lists):\n",
    "    day_of_week = {}\n",
    "    \n",
    "    for each_list in list_of_lists:\n",
    "        day_value = each_list[3]\n",
    "        birth_value = int(each_list[4])\n",
    "        \n",
    "        if day_value in day_of_week:\n",
    "            day_of_week[day_value] = day_of_week[day_value] + birth_value\n",
    "        else:\n",
    "            day_of_week[day_value] = birth_value\n",
    "    \n",
    "    return day_of_week"
   ]
  },
  {
   "cell_type": "code",
   "execution_count": null,
   "metadata": {
    "scrolled": true
   },
   "outputs": [],
   "source": [
    "cdc_day_births = dow_births(cdc_list)\n",
    "cdc_day_births"
   ]
  },
  {
   "cell_type": "markdown",
   "metadata": {},
   "source": [
    "For viewing, I don't like that the dictionary begins with 6 so I sorted it here:"
   ]
  },
  {
   "cell_type": "code",
   "execution_count": null,
   "metadata": {},
   "outputs": [],
   "source": [
    "keylist = sorted(cdc_day_births)\n",
    "for key in keylist:\n",
    "    print(key,':', cdc_day_births[key])"
   ]
  },
  {
   "cell_type": "markdown",
   "metadata": {},
   "source": [
    "## Creating A More General Function"
   ]
  },
  {
   "cell_type": "code",
   "execution_count": null,
   "metadata": {},
   "outputs": [],
   "source": [
    "def calc_counts(data, column):\n",
    "    dict_of_data = {}\n",
    "    \n",
    "    for each_list in data:\n",
    "        column_value = each_list[column]\n",
    "        count_value = int(each_list[4])\n",
    "        \n",
    "        if column_value in dict_of_data:\n",
    "            dict_of_data[column_value] = dict_of_data[column_value] + count_value\n",
    "        else:\n",
    "            dict_of_data[column_value] = count_value\n",
    "            \n",
    "    return dict_of_data"
   ]
  },
  {
   "cell_type": "code",
   "execution_count": null,
   "metadata": {},
   "outputs": [],
   "source": [
    "cdc_year_births = calc_counts(cdc_list, 0)\n",
    "cdc_month_births = calc_counts(cdc_list, 1)\n",
    "cdc_dom_births = calc_counts(cdc_list, 2)\n",
    "cdc_dow_births = calc_counts(cdc_list, 3)"
   ]
  },
  {
   "cell_type": "code",
   "execution_count": null,
   "metadata": {},
   "outputs": [],
   "source": [
    "cdc_year_births"
   ]
  },
  {
   "cell_type": "code",
   "execution_count": null,
   "metadata": {},
   "outputs": [],
   "source": [
    "cdc_month_births"
   ]
  },
  {
   "cell_type": "code",
   "execution_count": null,
   "metadata": {},
   "outputs": [],
   "source": [
    "cdc_dom_births"
   ]
  },
  {
   "cell_type": "code",
   "execution_count": null,
   "metadata": {},
   "outputs": [],
   "source": [
    "cdc_dow_births"
   ]
  },
  {
   "cell_type": "markdown",
   "metadata": {},
   "source": [
    "----------------------------------------------------------------------------------------------------------------------\n",
    "## Bonus Rounds"
   ]
  },
  {
   "cell_type": "markdown",
   "metadata": {
    "collapsed": true
   },
   "source": [
    "Write a function that can calculate the min and max values for any dictionary that's passed in."
   ]
  },
  {
   "cell_type": "code",
   "execution_count": null,
   "metadata": {},
   "outputs": [],
   "source": [
    "def min_max_values(dictionary):\n",
    "    key_max_value = max(dictionary.keys(), key=(lambda k: dictionary[k]))\n",
    "    key_min_value = min(dictionary.keys(), key=(lambda k: dictionary[k]))\n",
    "\n",
    "    max_value = dictionary[key_max_value]\n",
    "    min_value = dictionary[key_min_value]\n",
    "    print(\"The dictionary minimum is:\", min_value, \"\\nThe dictionary maximum is:\", max_value)\n",
    "    return"
   ]
  },
  {
   "cell_type": "code",
   "execution_count": null,
   "metadata": {},
   "outputs": [],
   "source": [
    "input_dict = cdc_year_births # <-- Enter your dictionary here.\n",
    "min_max_values(input_dict)"
   ]
  },
  {
   "cell_type": "markdown",
   "metadata": {},
   "source": [
    "Write a function that extracts the same values across years and calculates the differences between consecutive values to show if number of births is increasing or decreasing. For example, how did the number of births on Saturday change each year between 1994 and 2003?"
   ]
  },
  {
   "cell_type": "code",
   "execution_count": null,
   "metadata": {},
   "outputs": [],
   "source": [
    "def year_over_year(input_list):\n",
    "    previous_year_birth = 0\n",
    "    previous_birth_diff = 0\n",
    "    for year, total_births in input_list.items():\n",
    "        current_year_birth = int(total_births)\n",
    "        if previous_year_birth == 0:\n",
    "            print(year,\"is the first year.\")\n",
    "            previous_year_birth = current_year_birth\n",
    "        else:\n",
    "            if current_year_birth > previous_year_birth:\n",
    "                print(\"Births increase in the year\", year)\n",
    "                previous_year_birth = current_year_birth\n",
    "            elif current_year_birth < previous_year_birth:\n",
    "                print(\"Births decreased in the year\", year)\n",
    "                previous_year_birth = current_year_birth\n",
    "            elif current_year_birth == previous_year_birth:\n",
    "                print(\"Births remained the same in the year\", year)\n",
    "                previous_year_birth = current_year_birth"
   ]
  },
  {
   "cell_type": "code",
   "execution_count": null,
   "metadata": {},
   "outputs": [],
   "source": [
    "year_over_year(cdc_year_births)"
   ]
  },
  {
   "cell_type": "markdown",
   "metadata": {},
   "source": [
    "Find a way to combine the CDC data with the SSA data, which you can find [here](https://github.com/fivethirtyeight/data/tree/master/births). Specifically, brainstorm ways to deal with the overlapping time periods in the datasets."
   ]
  },
  {
   "cell_type": "code",
   "execution_count": null,
   "metadata": {},
   "outputs": [],
   "source": [
    "file_to_read_two = \"US_births_2000-2014_SSA.csv\"\n",
    "cdc_list_two = read_csv(file_to_read_two)"
   ]
  },
  {
   "cell_type": "code",
   "execution_count": null,
   "metadata": {},
   "outputs": [],
   "source": [
    "cdc_list_two[0:10]"
   ]
  },
  {
   "cell_type": "code",
   "execution_count": null,
   "metadata": {},
   "outputs": [],
   "source": [
    "cdc_two_year_births = calc_counts(cdc_list_two, 0)"
   ]
  },
  {
   "cell_type": "code",
   "execution_count": null,
   "metadata": {},
   "outputs": [],
   "source": [
    "cdc_two_year_births"
   ]
  },
  {
   "cell_type": "code",
   "execution_count": null,
   "metadata": {},
   "outputs": [],
   "source": [
    "cdc_year_births"
   ]
  },
  {
   "cell_type": "markdown",
   "metadata": {},
   "source": [
    "The first thing I notice is that the overlapping years, 2000-2003, have different total values for yearly birth totals. Given this the first step is to investigate the sources of data to see if there may be methodology difference to explain the differences.\n",
    "\n",
    "I'm going to assume the list with more recent values shoudl supersede the other list."
   ]
  },
  {
   "cell_type": "code",
   "execution_count": null,
   "metadata": {},
   "outputs": [],
   "source": [
    "joined_cdc_list = []\n",
    "\n",
    "for row in cdc_list:\n",
    "    if row[0] < 2000:\n",
    "        joined_cdc_list.append(row)\n",
    "for row in cdc_list_two:\n",
    "    joined_cdc_list.append(row)"
   ]
  },
  {
   "cell_type": "code",
   "execution_count": null,
   "metadata": {},
   "outputs": [],
   "source": [
    "join_check = calc_counts(joined_cdc_list, 0)\n",
    "join_check"
   ]
  }
 ],
 "metadata": {
  "anaconda-cloud": {},
  "kernelspec": {
   "display_name": "Python 3",
   "language": "python",
   "name": "python3"
  },
  "language_info": {
   "codemirror_mode": {
    "name": "ipython",
    "version": 3
   },
   "file_extension": ".py",
   "mimetype": "text/x-python",
   "name": "python",
   "nbconvert_exporter": "python",
   "pygments_lexer": "ipython3",
   "version": "3.6.5"
  }
 },
 "nbformat": 4,
 "nbformat_minor": 1
}
