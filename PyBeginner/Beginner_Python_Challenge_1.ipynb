{
 "cells": [
  {
   "cell_type": "markdown",
   "metadata": {},
   "source": [
    "# Beginner Python\n",
    "## Challenge: Files, Loops, and Conditional Logic"
   ]
  },
  {
   "cell_type": "markdown",
   "metadata": {},
   "source": [
    "This challenge used a data set with common gender-neutral names in the United States. This challenge is about reading in the file and iteratively converting the data to more useful representations.\n",
    "\n",
    "This data set is from a shortened version of one on the Social Security Adminstration's website\n",
    "\n",
    "Each line contains the unisex name and the estimated number of Americans with that name."
   ]
  },
  {
   "cell_type": "markdown",
   "metadata": {},
   "source": [
    "### Step 1\n",
    "Use the **open( )** function with read mode to return a File object.<br>\n",
    "Then, use the **read( )** method of the File object to read the file into a string."
   ]
  },
  {
   "cell_type": "code",
   "execution_count": null,
   "metadata": {},
   "outputs": [],
   "source": [
    "f = open('dq_unisex_names.csv', 'r')\n",
    "names = f.read()"
   ]
  },
  {
   "cell_type": "markdown",
   "metadata": {},
   "source": [
    "### Step 2\n",
    "Use the **split( )** method to split on the new-line delimiter.<br>\n",
    "Display the first five lines to confirm success."
   ]
  },
  {
   "cell_type": "code",
   "execution_count": null,
   "metadata": {},
   "outputs": [],
   "source": [
    "names_list = names.split('\\n')\n",
    "first_five = names_list[0:5]\n",
    "print(first_five)"
   ]
  },
  {
   "cell_type": "markdown",
   "metadata": {},
   "source": [
    "### Step 3\n",
    "Split each element in *names_list* and append the results to *nested_list* without the headers.<br>\n",
    "Display the first five elements in *nested_list*."
   ]
  },
  {
   "cell_type": "code",
   "execution_count": null,
   "metadata": {},
   "outputs": [],
   "source": [
    "nested_list = []\n",
    "for name in names_list:\n",
    "    comma_list = name.split(',')\n",
    "    nested_list.append(comma_list)  \n",
    "nested_list = nested_list[1:len(nested_list)]\n",
    "print(nested_list[0:5])"
   ]
  },
  {
   "cell_type": "markdown",
   "metadata": {},
   "source": [
    "### Step 4\n",
    "Create a new list of lists with two elements. The first being the name and the second being the number of people who share that name.<br>\n",
    "Display the first five elements to confirm success."
   ]
  },
  {
   "cell_type": "code",
   "execution_count": null,
   "metadata": {},
   "outputs": [],
   "source": [
    "numerical_list = []\n",
    "for line in nested_list:\n",
    "    name = line[1]\n",
    "    count = float(line[2])\n",
    "    new_list = [name, count]\n",
    "    numerical_list.append(new_list)\n",
    "print(numerical_list[0:5])"
   ]
  },
  {
   "cell_type": "markdown",
   "metadata": {},
   "source": [
    "### Step 5\n",
    "Create a new list of strings that only contains the names shared by 1,000 people or more.<br>\n",
    "Display the first 10 elements to confirm success."
   ]
  },
  {
   "cell_type": "code",
   "execution_count": null,
   "metadata": {},
   "outputs": [],
   "source": [
    "thousand_or_greater = []\n",
    "for item in numerical_list:\n",
    "    if (item[1] >= 1000):\n",
    "        thousand_or_greater.append(item[0])\n",
    "print(thousand_or_greater[0:10])"
   ]
  },
  {
   "cell_type": "markdown",
   "metadata": {},
   "source": [
    "#### And, just to make it pretty"
   ]
  },
  {
   "cell_type": "code",
   "execution_count": null,
   "metadata": {},
   "outputs": [],
   "source": [
    "clean_thousand = []\n",
    "for item in thousand_or_greater:\n",
    "    item = item.replace('\"', '')\n",
    "    clean_thousand.append(item)\n",
    "print(clean_thousand[0:10])"
   ]
  }
 ],
 "metadata": {
  "kernelspec": {
   "display_name": "Python 3",
   "language": "python",
   "name": "python3"
  },
  "language_info": {
   "codemirror_mode": {
    "name": "ipython",
    "version": 3
   },
   "file_extension": ".py",
   "mimetype": "text/x-python",
   "name": "python",
   "nbconvert_exporter": "python",
   "pygments_lexer": "ipython3",
   "version": "3.6.5"
  }
 },
 "nbformat": 4,
 "nbformat_minor": 2
}
