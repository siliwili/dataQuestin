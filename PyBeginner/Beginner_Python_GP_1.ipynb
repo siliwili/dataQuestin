{
 "cells": [
  {
   "cell_type": "markdown",
   "metadata": {},
   "source": [
    "# Guided Project: Using Jupyter notebook\n",
    "This notebook and associated csv ('births.csv') are from the [Dataquest.io](https://www.dataquest.io/) tutorial program.\n",
    "\n",
    "In this project the goal is to learn how to perform analysis and communicate results with Jupyter notebook.\n",
    "* The benefits of using [Jupyter notebook](https://jupyter.org/)\n",
    "* How to edit cells in Jupyter notebook\n",
    "* How to format text using the [Markdown](https://daringfireball.net/projects/markdown/) syntax"
   ]
  },
  {
   "cell_type": "markdown",
   "metadata": {},
   "source": [
    "----------------------------------------------------------------------------------------------------------------------\n",
    "## Birth Dates in the United States of America\n",
    "The data set used in this notebook come from the Center for Disease Control and Prevention's National Center for Health Statistics. The data set has the following structure:\n",
    "\n",
    "* year - Year\n",
    "* month - Month\n",
    "* date_of_month - Day number of the month\n",
    "* day_of_week - Day of week, where 1 is Monday and 7 is Sunday\n",
    "* births - Number of births"
   ]
  },
  {
   "cell_type": "code",
   "execution_count": null,
   "metadata": {
    "scrolled": true
   },
   "outputs": [],
   "source": [
    "# Begin by opening the file and reading the csv into a string.\n",
    "f = open('births.csv', 'r')\n",
    "births = f.read()\n",
    "\n",
    "# Split the string on the newline character and the print the data to confirm upload.\n",
    "birth_data = births.split('\\n')\n",
    "birth_data # Remember this is the same as using 'print(birth_data)'"
   ]
  },
  {
   "cell_type": "markdown",
   "metadata": {},
   "source": [
    "If you want to expand the output cell to display the full contents. Go to **Cell - Cell Outputs** and select **Toggle Scrolling**. I do not recommend this for large datasets unless you really love scrolling."
   ]
  },
  {
   "cell_type": "code",
   "execution_count": null,
   "metadata": {
    "scrolled": true
   },
   "outputs": [],
   "source": [
    "# Now split the strings in 'birth_data' on the ',' to make a table.\n",
    "for each in birth_data:\n",
    "    info = each.split(',')\n",
    "    print(info)"
   ]
  },
  {
   "cell_type": "markdown",
   "metadata": {},
   "source": [
    "Go [here](https://jupyter.readthedocs.io/en/latest/projects/kernels.html) to learn about **kernels** because understanding that code must be run in sequence and what is happening under the hood is important. I cannot count how many times I have run a block in a notebook that spit out an error message because I made a change and didn't re-run the necessary cells."
   ]
  },
  {
   "cell_type": "code",
   "execution_count": null,
   "metadata": {
    "scrolled": true
   },
   "outputs": [],
   "source": [
    "day_birth_counts = {}\n",
    "\n",
    "input_lst = birth_data[1:len(birth_data)]\n",
    "\n",
    "for each in input_lst:\n",
    "    split_each = each.split(',')\n",
    "    day_value = split_each[3]\n",
    "    birth_value = int(split_each[4])\n",
    "    if day_value in day_birth_counts:\n",
    "        day_birth_counts[day_value] = day_birth_counts[day_value] + birth_value\n",
    "    else:\n",
    "        day_birth_counts[day_value] = birth_value"
   ]
  },
  {
   "cell_type": "code",
   "execution_count": null,
   "metadata": {
    "scrolled": true
   },
   "outputs": [],
   "source": [
    "day_birth_counts"
   ]
  },
  {
   "cell_type": "markdown",
   "metadata": {},
   "source": [
    "For the DataQuest official solution go [here](https://github.com/dataquestio/solutions/blob/master/Mission207Solutions.ipynb)."
   ]
  }
 ],
 "metadata": {
  "anaconda-cloud": {},
  "kernelspec": {
   "display_name": "Python 3",
   "language": "python",
   "name": "python3"
  },
  "language_info": {
   "codemirror_mode": {
    "name": "ipython",
    "version": 3
   },
   "file_extension": ".py",
   "mimetype": "text/x-python",
   "name": "python",
   "nbconvert_exporter": "python",
   "pygments_lexer": "ipython3",
   "version": "3.6.5"
  }
 },
 "nbformat": 4,
 "nbformat_minor": 1
}
